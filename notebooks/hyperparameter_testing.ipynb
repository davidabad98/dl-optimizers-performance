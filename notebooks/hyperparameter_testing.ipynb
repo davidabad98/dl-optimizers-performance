{
 "cells": [
  {
   "cell_type": "markdown",
   "metadata": {},
   "source": [
    "### Imports"
   ]
  },
  {
   "cell_type": "code",
   "execution_count": 1,
   "metadata": {},
   "outputs": [],
   "source": [
    "import sys\n",
    "import torch\n",
    "import matplotlib.pyplot as plt\n",
    "import numpy as np\n",
    "sys.path.append(\"../src\")  # Add src/ directory to the Python path\n",
    "\n",
    "from data_loader import load_kmnist"
   ]
  },
  {
   "cell_type": "code",
   "execution_count": 4,
   "metadata": {},
   "outputs": [],
   "source": [
    "import torch\n",
    "import torchvision\n",
    "import torchvision.transforms as transforms\n",
    "def load_kmnist():\n",
    "    transform = transforms.Compose(\n",
    "        [transforms.ToTensor(), transforms.Normalize((0.5,), (0.5,))]\n",
    "    )\n",
    "\n",
    "    dataset = torchvision.datasets.KMNIST(\n",
    "        root=\"../data\", train=True, transform=transform, download=True\n",
    "    )\n",
    "    return dataset"
   ]
  },
  {
   "cell_type": "code",
   "execution_count": 5,
   "metadata": {},
   "outputs": [],
   "source": [
    "train_data = load_kmnist()  # This is a PyTorch dataset"
   ]
  },
  {
   "cell_type": "code",
   "execution_count": 6,
   "metadata": {},
   "outputs": [
    {
     "data": {
      "text/plain": [
       "Dataset KMNIST\n",
       "    Number of datapoints: 60000\n",
       "    Root location: ../data\n",
       "    Split: Train\n",
       "    StandardTransform\n",
       "Transform: Compose(\n",
       "               ToTensor()\n",
       "               Normalize(mean=(0.5,), std=(0.5,))\n",
       "           )"
      ]
     },
     "execution_count": 6,
     "metadata": {},
     "output_type": "execute_result"
    }
   ],
   "source": [
    "train_data"
   ]
  },
  {
   "cell_type": "code",
   "execution_count": 7,
   "metadata": {},
   "outputs": [],
   "source": [
    "hyperparameter_grid = {\n",
    "    \"adamw\": {\"lr\": [0.0001, 0.001, 0.01], \"weight_decay\": [0.0001, 0.001]},\n",
    "    \"adam\": {\"lr\": [0.0001, 0.001, 0.01], \"weight_decay\": [0.0001, 0.001]},\n",
    "    \"rmsprop\": {\"lr\": [0.0001, 0.001, 0.01], \"momentum\": [0.8, 0.9], \"alpha\": [0.9, 0.99]}\n",
    "}\n"
   ]
  },
  {
   "cell_type": "code",
   "execution_count": 8,
   "metadata": {},
   "outputs": [],
   "source": [
    "from sklearn.model_selection import KFold\n",
    "\n",
    "def get_k_folds(data, k=5):\n",
    "    \"\"\"\n",
    "    Splits dataset indices into K folds.\n",
    "\n",
    "    Args:\n",
    "        data (list or dataset): The dataset (list of tensors or PyTorch dataset).\n",
    "        k (int): Number of folds.\n",
    "\n",
    "    Returns:\n",
    "        Generator of (train_indices, val_indices).\n",
    "    \"\"\"\n",
    "    num_samples = len(data)  # Number of images\n",
    "    kf = KFold(n_splits=k, shuffle=True, random_state=42)\n",
    "\n",
    "    for train_idx, val_idx in kf.split(np.arange(num_samples)):  # Correct approach for lists\n",
    "        yield train_idx, val_idx\n"
   ]
  },
  {
   "cell_type": "code",
   "execution_count": 9,
   "metadata": {},
   "outputs": [],
   "source": [
    "from train import train_model\n",
    "from model import KMNISTModel\n",
    "from model import get_optimizer\n",
    "import torch\n",
    "import torch.nn as nn\n",
    "import itertools\n",
    "import torch.optim as optim\n",
    "\n",
    "device = torch.device(\"cuda\" if torch.cuda.is_available() else \"cpu\")\n",
    "criterion = nn.CrossEntropyLoss()\n",
    "\n",
    "def hyperparameter_tuning(optimizer_name, search_space, train_data, k=5, epochs=10):\n",
    "    \"\"\"\n",
    "    Runs cross-validation for different hyperparameter settings.\n",
    "    \"\"\"\n",
    "    best_config, best_score = None, 0\n",
    "    param_keys, param_values = zip(*search_space.items())\n",
    "    param_combinations = [dict(zip(param_keys, v)) for v in itertools.product(*param_values)]\n",
    "\n",
    "    for params in param_combinations:\n",
    "        print(f\"Testing {optimizer_name} with params: {params}\")\n",
    "        total_val_acc = 0\n",
    "        \n",
    "        # Separate train data and labels into \n",
    "\n",
    "        for fold, (train_idx, val_idx) in enumerate(get_k_folds(train_data, k)):\n",
    "            print(f\"Fold {fold+1}/{k}\")\n",
    "            train_subset = torch.utils.data.Subset(train_data, train_idx)\n",
    "            val_subset = torch.utils.data.Subset(train_data, val_idx)\n",
    "\n",
    "            train_loader = torch.utils.data.DataLoader(train_subset, batch_size=64, shuffle=True)\n",
    "            val_loader = torch.utils.data.DataLoader(val_subset, batch_size=64, shuffle=False)\n",
    "\n",
    "            model = KMNISTModel().to(device)\n",
    "            optimizer = get_optimizer(model, optimizer_name=optimizer_name, **params)\n",
    "\n",
    "            train_losses, valid_losses, train_metrics, valid_metrics = train_model(model, device, train_loader, val_loader, epochs, optimizer, criterion)\n",
    "            total_val_acc += max(valid_metrics)\n",
    "\n",
    "        avg_val_acc = total_val_acc / k\n",
    "        print(f\"Avg Validation Accuracy for {params}: {avg_val_acc:.4f}\")\n",
    "        print('--------------------------------')\n",
    "\n",
    "        if avg_val_acc > best_score:\n",
    "            best_score = avg_val_acc\n",
    "            best_config = params\n",
    "\n",
    "    print(f\"Best config for {optimizer_name}: {best_config} with validation accuracy: {best_score:.4f}\")\n",
    "    return best_config\n"
   ]
  },
  {
   "cell_type": "code",
   "execution_count": null,
   "metadata": {},
   "outputs": [],
   "source": [
    "train_data"
   ]
  },
  {
   "cell_type": "code",
   "execution_count": null,
   "metadata": {},
   "outputs": [],
   "source": [
    "\n",
    "for optimizer_name in [\"adamw\", \"adam\", \"rmsprop\"]:\n",
    "    best_params = hyperparameter_tuning(optimizer_name, hyperparameter_grid[optimizer_name], train_data, k=5, epochs=10)\n",
    "    print(f\"Best parameters for {optimizer_name}: {best_params}\")\n"
   ]
  },
  {
   "cell_type": "code",
   "execution_count": null,
   "metadata": {},
   "outputs": [],
   "source": []
  }
 ],
 "metadata": {
  "kernelspec": {
   "display_name": "tf",
   "language": "python",
   "name": "python3"
  },
  "language_info": {
   "codemirror_mode": {
    "name": "ipython",
    "version": 3
   },
   "file_extension": ".py",
   "mimetype": "text/x-python",
   "name": "python",
   "nbconvert_exporter": "python",
   "pygments_lexer": "ipython3",
   "version": "3.9.21"
  }
 },
 "nbformat": 4,
 "nbformat_minor": 2
}
